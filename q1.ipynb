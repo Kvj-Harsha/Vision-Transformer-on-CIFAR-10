{
  "nbformat": 4,
  "nbformat_minor": 0,
  "metadata": {
    "colab": {
      "provenance": [],
      "gpuType": "T4"
    },
    "kernelspec": {
      "name": "python3",
      "display_name": "Python 3"
    },
    "language_info": {
      "name": "python"
    },
    "accelerator": "GPU"
  },
  "cells": [
    {
      "cell_type": "code",
      "source": [
        "# Step 1: Setup and reproducibility\n",
        "# - Import required libraries\n",
        "# - Set random seeds for reproducibility\n",
        "# - Detect GPU/CPU device\n",
        "import os\n",
        "import math\n",
        "import random\n",
        "import time\n",
        "from typing import Optional\n",
        "\n",
        "import numpy as np\n",
        "import torch\n",
        "import torch.nn as nn\n",
        "import torch.nn.functional as F\n",
        "from torch.utils.data import DataLoader, random_split\n",
        "import torchvision\n",
        "import torchvision.transforms as T\n",
        "from tqdm import tqdm\n",
        "\n",
        "def seed_everything(seed=42, deterministic=False):\n",
        "    random.seed(seed)\n",
        "    np.random.seed(seed)\n",
        "    torch.manual_seed(seed)\n",
        "    torch.cuda.manual_seed_all(seed)\n",
        "    if deterministic:\n",
        "        torch.backends.cudnn.deterministic = True\n",
        "        torch.backends.cudnn.benchmark = False\n",
        "    else:\n",
        "        torch.backends.cudnn.benchmark = True\n",
        "\n",
        "seed_everything(42, deterministic=False)\n",
        "device = torch.device(\"cuda\" if torch.cuda.is_available() else \"cpu\")\n",
        "print(\"Device:\", device)"
      ],
      "metadata": {
        "colab": {
          "base_uri": "https://localhost:8080/"
        },
        "id": "VxtbDou27RZ5",
        "outputId": "e818998a-2b03-4fba-d30a-712e17c52fd5"
      },
      "execution_count": 5,
      "outputs": [
        {
          "output_type": "stream",
          "name": "stdout",
          "text": [
            "Device: cuda\n"
          ]
        }
      ]
    },
    {
      "cell_type": "code",
      "source": [
        "# Step 2: Prepare CIFAR-10 dataset\n",
        "# - Define normalization statistics\n",
        "# - Apply data augmentation for training\n",
        "# - Split into train/val/test sets\n",
        "# - Create dataloaders\n",
        "MEAN = (0.4914, 0.4822, 0.4465)\n",
        "STD  = (0.2023, 0.1994, 0.2010)\n",
        "\n",
        "train_transform = T.Compose([\n",
        "    T.RandomCrop(32, padding=4),\n",
        "    T.RandomHorizontalFlip(),\n",
        "    T.ToTensor(),\n",
        "    T.Normalize(MEAN, STD),\n",
        "])\n",
        "\n",
        "test_transform = T.Compose([\n",
        "    T.ToTensor(),\n",
        "    T.Normalize(MEAN, STD),\n",
        "])\n",
        "\n",
        "root = \"./data\"\n",
        "full_train = torchvision.datasets.CIFAR10(root=root, train=True, download=True, transform=train_transform)\n",
        "test_set   = torchvision.datasets.CIFAR10(root=root, train=False, download=True, transform=test_transform)\n",
        "\n",
        "val_size = 5000\n",
        "train_size = len(full_train) - val_size\n",
        "train_set, val_set = random_split(full_train, [train_size, val_size])\n",
        "\n",
        "batch_size = 128\n",
        "num_workers = 2\n",
        "pin_memory = True if device.type == \"cuda\" else False\n",
        "\n",
        "train_loader = DataLoader(train_set, batch_size=batch_size, shuffle=True,  num_workers=num_workers, pin_memory=pin_memory)\n",
        "val_loader   = DataLoader(val_set,   batch_size=batch_size, shuffle=False, num_workers=num_workers, pin_memory=pin_memory)\n",
        "test_loader  = DataLoader(test_set,  batch_size=batch_size, shuffle=False, num_workers=num_workers, pin_memory=pin_memory)\n"
      ],
      "metadata": {
        "id": "vP4Ob9iL7aNY"
      },
      "execution_count": 6,
      "outputs": []
    },
    {
      "cell_type": "code",
      "source": [
        "# Step 3: Define the Vision Transformer (ViT) model\n",
        "# - Patch embedding layer\n",
        "# - Transformer encoder blocks (MHSA + MLP)\n",
        "# - CLS token and positional embeddings\n",
        "# - Final classification head\n",
        "class PatchEmbed(nn.Module):\n",
        "    def __init__(self, img_size=32, patch_size=4, in_chans=3, embed_dim=192):\n",
        "        super().__init__()\n",
        "        assert img_size % patch_size == 0\n",
        "        self.num_patches = (img_size // patch_size) * (img_size // patch_size)\n",
        "        self.proj = nn.Conv2d(in_chans, embed_dim, kernel_size=patch_size, stride=patch_size)\n",
        "\n",
        "    def forward(self, x):\n",
        "        x = self.proj(x)\n",
        "        return x.flatten(2).transpose(1, 2)\n",
        "\n",
        "class DropPath(nn.Module):\n",
        "    def __init__(self, drop_prob=0.0): super().__init__(); self.drop_prob = drop_prob\n",
        "    def forward(self, x):\n",
        "        if self.drop_prob == 0. or not self.training: return x\n",
        "        keep_prob = 1 - self.drop_prob\n",
        "        shape = (x.size(0),) + (1,) * (x.dim() - 1)\n",
        "        random_tensor = keep_prob + torch.rand(shape, dtype=x.dtype, device=x.device)\n",
        "        random_tensor.floor_()\n",
        "        return x.div(keep_prob) * random_tensor\n",
        "\n",
        "class MultiHeadSelfAttention(nn.Module):\n",
        "    def __init__(self, dim, num_heads=3, qkv_bias=True, attn_drop=0., proj_drop=0.):\n",
        "        super().__init__()\n",
        "        assert dim % num_heads == 0\n",
        "        self.num_heads = num_heads\n",
        "        self.head_dim = dim // num_heads\n",
        "        self.scale = self.head_dim ** -0.5\n",
        "        self.qkv = nn.Linear(dim, dim * 3, bias=qkv_bias)\n",
        "        self.attn_drop = nn.Dropout(attn_drop)\n",
        "        self.proj = nn.Linear(dim, dim)\n",
        "        self.proj_drop = nn.Dropout(proj_drop)\n",
        "    def forward(self, x):\n",
        "        B, N, C = x.shape\n",
        "        qkv = self.qkv(x).reshape(B, N, 3, self.num_heads, self.head_dim).permute(2,0,3,1,4)\n",
        "        q, k, v = qkv[0], qkv[1], qkv[2]\n",
        "        attn = (q @ k.transpose(-2, -1)) * self.scale\n",
        "        attn = attn.softmax(dim=-1); attn = self.attn_drop(attn)\n",
        "        out = (attn @ v).transpose(1, 2).reshape(B, N, C)\n",
        "        return self.proj_drop(self.proj(out))\n",
        "\n",
        "class MLP(nn.Module):\n",
        "    def __init__(self, in_features, hidden_features=None, out_features=None, drop=0.):\n",
        "        super().__init__()\n",
        "        out_features = out_features or in_features\n",
        "        hidden_features = hidden_features or in_features * 4\n",
        "        self.fc1 = nn.Linear(in_features, hidden_features)\n",
        "        self.act = nn.GELU()\n",
        "        self.fc2 = nn.Linear(hidden_features, out_features)\n",
        "        self.drop = nn.Dropout(drop)\n",
        "    def forward(self, x):\n",
        "        return self.drop(self.fc2(self.drop(self.act(self.fc1(x)))))\n",
        "\n",
        "class TransformerEncoderBlock(nn.Module):\n",
        "    def __init__(self, dim, num_heads, mlp_ratio=4., qkv_bias=True, drop=0., attn_drop=0., drop_path=0.0):\n",
        "        super().__init__()\n",
        "        self.norm1 = nn.LayerNorm(dim)\n",
        "        self.attn = MultiHeadSelfAttention(dim, num_heads, qkv_bias, attn_drop, drop)\n",
        "        self.drop_path = DropPath(drop_path) if drop_path > 0. else nn.Identity()\n",
        "        self.norm2 = nn.LayerNorm(dim)\n",
        "        self.mlp = MLP(dim, int(dim*mlp_ratio), drop=drop)\n",
        "    def forward(self, x):\n",
        "        x = x + self.drop_path(self.attn(self.norm1(x)))\n",
        "        return x + self.drop_path(self.mlp(self.norm2(x)))\n",
        "\n",
        "class VisionTransformer(nn.Module):\n",
        "    def __init__(self, img_size=32, patch_size=4, in_chans=3, num_classes=10,\n",
        "                 embed_dim=192, depth=8, num_heads=3, mlp_ratio=4.,\n",
        "                 qkv_bias=True, drop_rate=0.0, attn_drop_rate=0.0, drop_path_rate=0.1):\n",
        "        super().__init__()\n",
        "        self.patch_embed = PatchEmbed(img_size, patch_size, in_chans, embed_dim)\n",
        "        num_patches = self.patch_embed.num_patches\n",
        "        self.cls_token = nn.Parameter(torch.zeros(1, 1, embed_dim))\n",
        "        self.pos_embed = nn.Parameter(torch.zeros(1, num_patches + 1, embed_dim))\n",
        "        self.pos_drop = nn.Dropout(drop_rate)\n",
        "        dpr = [x.item() for x in torch.linspace(0, drop_path_rate, depth)]\n",
        "        self.blocks = nn.ModuleList([\n",
        "            TransformerEncoderBlock(embed_dim, num_heads, mlp_ratio, qkv_bias,\n",
        "                                    drop_rate, attn_drop_rate, dpr[i]) for i in range(depth)])\n",
        "        self.norm = nn.LayerNorm(embed_dim)\n",
        "        self.head = nn.Linear(embed_dim, num_classes)\n",
        "        nn.init.trunc_normal_(self.pos_embed, std=0.02)\n",
        "        nn.init.trunc_normal_(self.cls_token, std=0.02)\n",
        "        nn.init.trunc_normal_(self.head.weight, std=0.02)\n",
        "        nn.init.zeros_(self.head.bias)\n",
        "    def forward(self, x):\n",
        "        B = x.size(0)\n",
        "        x = self.patch_embed(x)\n",
        "        cls_tokens = self.cls_token.expand(B, -1, -1)\n",
        "        x = torch.cat((cls_tokens, x), dim=1) + self.pos_embed\n",
        "        x = self.pos_drop(x)\n",
        "        for blk in self.blocks: x = blk(x)\n",
        "        x = self.norm(x)\n",
        "        return self.head(x[:, 0])\n"
      ],
      "metadata": {
        "id": "-Kl1JpX87cak"
      },
      "execution_count": 7,
      "outputs": []
    },
    {
      "cell_type": "code",
      "source": [
        "# Step 4: Define training components\n",
        "# - Instantiate ViT model\n",
        "# - Define loss function (label smoothing)\n",
        "# - Optimizer (AdamW)\n",
        "# - Learning rate scheduler (cosine annealing)\n",
        "# - Gradient scaler (mixed precision)\n",
        "model = VisionTransformer(img_size=32, patch_size=4, embed_dim=192,\n",
        "                          depth=8, num_heads=3, mlp_ratio=4.,\n",
        "                          drop_rate=0.1, attn_drop_rate=0.1, drop_path_rate=0.1).to(device)\n",
        "\n",
        "criterion = nn.CrossEntropyLoss(label_smoothing=0.1)\n",
        "optimizer = torch.optim.AdamW(model.parameters(), lr=3e-4, weight_decay=0.05)\n",
        "epochs = 50\n",
        "scheduler = torch.optim.lr_scheduler.CosineAnnealingLR(optimizer, T_max=epochs)\n",
        "scaler = torch.amp.GradScaler()\n"
      ],
      "metadata": {
        "id": "TEKR90cx7eXk"
      },
      "execution_count": 8,
      "outputs": []
    },
    {
      "cell_type": "code",
      "source": [
        "# Step 5: (Optional) Warmup Scheduler\n",
        "class WarmupScheduler:\n",
        "    def __init__(self, optimizer, base_scheduler, warmup_epochs=0, total_epochs=epochs):\n",
        "        self.optimizer = optimizer\n",
        "        self.base = base_scheduler\n",
        "        self.warmup_epochs = warmup_epochs\n",
        "        self.total_epochs = total_epochs\n",
        "        self.last_epoch = 0\n",
        "    def step(self):\n",
        "        self.last_epoch += 1\n",
        "        if self.warmup_epochs > 0 and self.last_epoch <= self.warmup_epochs:\n",
        "            factor = self.last_epoch / float(self.warmup_epochs)\n",
        "            for g in self.optimizer.param_groups:\n",
        "                g['lr'] = g.get('initial_lr', g['lr']) * factor\n",
        "        else:\n",
        "            self.base.step()\n",
        "\n",
        "warmup_epochs = 0\n",
        "for g in optimizer.param_groups:\n",
        "    g.setdefault('initial_lr', g['lr'])\n",
        "scheduler_wrapped = WarmupScheduler(optimizer, scheduler, warmup_epochs)\n"
      ],
      "metadata": {
        "id": "T3L7PIkY7iRj"
      },
      "execution_count": 9,
      "outputs": []
    },
    {
      "cell_type": "code",
      "source": [
        "# Step 6: Training and evaluation helper functions\n",
        "def train_one_epoch(epoch):\n",
        "    model.train()\n",
        "    running_loss, correct, total = 0.0, 0, 0\n",
        "    pbar = tqdm(train_loader, desc=f\"Train Ep {epoch}\", leave=False)\n",
        "    for imgs, targets in pbar:\n",
        "        imgs, targets = imgs.to(device), targets.to(device)\n",
        "        optimizer.zero_grad()\n",
        "        with torch.amp.autocast(device_type=device.type):\n",
        "            logits = model(imgs)\n",
        "            loss = criterion(logits, targets)\n",
        "        scaler.scale(loss).backward()\n",
        "        scaler.step(optimizer); scaler.update()\n",
        "        running_loss += loss.item() * imgs.size(0)\n",
        "        preds = logits.argmax(dim=1)\n",
        "        correct += (preds == targets).sum().item(); total += targets.size(0)\n",
        "        pbar.set_postfix(dict(loss=running_loss/total, acc=100.0*correct/total))\n",
        "    scheduler_wrapped.step()\n",
        "    return running_loss/total, 100.0*correct/total\n",
        "\n",
        "@torch.no_grad()\n",
        "def evaluate(loader):\n",
        "    model.eval()\n",
        "    running_loss, correct, total = 0.0, 0, 0\n",
        "    for imgs, targets in loader:\n",
        "        imgs, targets = imgs.to(device), targets.to(device)\n",
        "        with torch.amp.autocast(device_type=device.type):\n",
        "            logits = model(imgs)\n",
        "            loss = criterion(logits, targets)\n",
        "        running_loss += loss.item() * imgs.size(0)\n",
        "        preds = logits.argmax(dim=1)\n",
        "        correct += (preds == targets).sum().item(); total += targets.size(0)\n",
        "    return running_loss/total, 100.0*correct/total\n"
      ],
      "metadata": {
        "id": "5H_ky1_j7kC2"
      },
      "execution_count": 10,
      "outputs": []
    },
    {
      "cell_type": "code",
      "source": [
        "# Step 7: Training loop with checkpointing\n",
        "best_val_acc = 0.0\n",
        "save_path = \"best_vit_cifar10.pth\"\n",
        "\n",
        "for epoch in range(1, epochs + 1):\n",
        "    t0 = time.time()\n",
        "    train_loss, train_acc = train_one_epoch(epoch)\n",
        "    val_loss, val_acc = evaluate(val_loader)\n",
        "    if val_acc > best_val_acc:\n",
        "        best_val_acc = val_acc\n",
        "        torch.save({\n",
        "            \"epoch\": epoch,\n",
        "            \"model_state\": model.state_dict(),\n",
        "            \"optimizer_state\": optimizer.state_dict(),\n",
        "            \"scaler_state\": scaler.state_dict(),\n",
        "            \"best_val_acc\": best_val_acc,\n",
        "        }, save_path)\n",
        "    lr = optimizer.param_groups[0]['lr']\n",
        "    print(f\"[{epoch:02d}/{epochs:02d}] Train loss: {train_loss:.4f}, Train acc: {train_acc:.2f}% | \"\n",
        "          f\"Val loss: {val_loss:.4f}, Val acc: {val_acc:.2f}% | LR: {lr:.2e} | time: {time.time()-t0:.1f}s\")\n"
      ],
      "metadata": {
        "colab": {
          "base_uri": "https://localhost:8080/"
        },
        "id": "ytAKxdIF7nn-",
        "outputId": "87ff5539-c39e-4709-c56a-ea6dfe8266cc"
      },
      "execution_count": 11,
      "outputs": [
        {
          "output_type": "stream",
          "name": "stderr",
          "text": []
        },
        {
          "output_type": "stream",
          "name": "stdout",
          "text": [
            "[01/50] Train loss: 1.9093, Train acc: 32.30% | Val loss: 1.7818, Val acc: 40.26% | LR: 3.00e-04 | time: 28.8s\n"
          ]
        },
        {
          "output_type": "stream",
          "name": "stderr",
          "text": []
        },
        {
          "output_type": "stream",
          "name": "stdout",
          "text": [
            "[02/50] Train loss: 1.7062, Train acc: 43.49% | Val loss: 1.6356, Val acc: 47.26% | LR: 2.99e-04 | time: 28.5s\n"
          ]
        },
        {
          "output_type": "stream",
          "name": "stderr",
          "text": []
        },
        {
          "output_type": "stream",
          "name": "stdout",
          "text": [
            "[03/50] Train loss: 1.5903, Train acc: 49.11% | Val loss: 1.4897, Val acc: 53.86% | LR: 2.97e-04 | time: 27.6s\n"
          ]
        },
        {
          "output_type": "stream",
          "name": "stderr",
          "text": []
        },
        {
          "output_type": "stream",
          "name": "stdout",
          "text": [
            "[04/50] Train loss: 1.5092, Train acc: 53.33% | Val loss: 1.4569, Val acc: 55.80% | LR: 2.95e-04 | time: 27.5s\n"
          ]
        },
        {
          "output_type": "stream",
          "name": "stderr",
          "text": []
        },
        {
          "output_type": "stream",
          "name": "stdout",
          "text": [
            "[05/50] Train loss: 1.4480, Train acc: 56.15% | Val loss: 1.3853, Val acc: 59.42% | LR: 2.93e-04 | time: 28.6s\n"
          ]
        },
        {
          "output_type": "stream",
          "name": "stderr",
          "text": []
        },
        {
          "output_type": "stream",
          "name": "stdout",
          "text": [
            "[06/50] Train loss: 1.3964, Train acc: 58.77% | Val loss: 1.3608, Val acc: 59.74% | LR: 2.89e-04 | time: 27.5s\n"
          ]
        },
        {
          "output_type": "stream",
          "name": "stderr",
          "text": []
        },
        {
          "output_type": "stream",
          "name": "stdout",
          "text": [
            "[07/50] Train loss: 1.3610, Train acc: 60.20% | Val loss: 1.3245, Val acc: 62.52% | LR: 2.86e-04 | time: 28.5s\n"
          ]
        },
        {
          "output_type": "stream",
          "name": "stderr",
          "text": []
        },
        {
          "output_type": "stream",
          "name": "stdout",
          "text": [
            "[08/50] Train loss: 1.3190, Train acc: 62.55% | Val loss: 1.2952, Val acc: 63.60% | LR: 2.81e-04 | time: 27.5s\n"
          ]
        },
        {
          "output_type": "stream",
          "name": "stderr",
          "text": []
        },
        {
          "output_type": "stream",
          "name": "stdout",
          "text": [
            "[09/50] Train loss: 1.2860, Train acc: 64.12% | Val loss: 1.2797, Val acc: 64.12% | LR: 2.77e-04 | time: 27.5s\n"
          ]
        },
        {
          "output_type": "stream",
          "name": "stderr",
          "text": []
        },
        {
          "output_type": "stream",
          "name": "stdout",
          "text": [
            "[10/50] Train loss: 1.2588, Train acc: 65.24% | Val loss: 1.2563, Val acc: 65.18% | LR: 2.71e-04 | time: 27.5s\n"
          ]
        },
        {
          "output_type": "stream",
          "name": "stderr",
          "text": []
        },
        {
          "output_type": "stream",
          "name": "stdout",
          "text": [
            "[11/50] Train loss: 1.2354, Train acc: 66.51% | Val loss: 1.2233, Val acc: 66.40% | LR: 2.66e-04 | time: 27.7s\n"
          ]
        },
        {
          "output_type": "stream",
          "name": "stderr",
          "text": []
        },
        {
          "output_type": "stream",
          "name": "stdout",
          "text": [
            "[12/50] Train loss: 1.2046, Train acc: 67.92% | Val loss: 1.2113, Val acc: 67.50% | LR: 2.59e-04 | time: 28.4s\n"
          ]
        },
        {
          "output_type": "stream",
          "name": "stderr",
          "text": []
        },
        {
          "output_type": "stream",
          "name": "stdout",
          "text": [
            "[13/50] Train loss: 1.1875, Train acc: 68.33% | Val loss: 1.1753, Val acc: 70.18% | LR: 2.53e-04 | time: 28.6s\n"
          ]
        },
        {
          "output_type": "stream",
          "name": "stderr",
          "text": []
        },
        {
          "output_type": "stream",
          "name": "stdout",
          "text": [
            "[14/50] Train loss: 1.1678, Train acc: 69.71% | Val loss: 1.1869, Val acc: 69.34% | LR: 2.46e-04 | time: 27.6s\n"
          ]
        },
        {
          "output_type": "stream",
          "name": "stderr",
          "text": []
        },
        {
          "output_type": "stream",
          "name": "stdout",
          "text": [
            "[15/50] Train loss: 1.1459, Train acc: 70.50% | Val loss: 1.1278, Val acc: 72.10% | LR: 2.38e-04 | time: 27.5s\n"
          ]
        },
        {
          "output_type": "stream",
          "name": "stderr",
          "text": []
        },
        {
          "output_type": "stream",
          "name": "stdout",
          "text": [
            "[16/50] Train loss: 1.1278, Train acc: 71.53% | Val loss: 1.1116, Val acc: 72.06% | LR: 2.30e-04 | time: 27.4s\n"
          ]
        },
        {
          "output_type": "stream",
          "name": "stderr",
          "text": []
        },
        {
          "output_type": "stream",
          "name": "stdout",
          "text": [
            "[17/50] Train loss: 1.1093, Train acc: 72.36% | Val loss: 1.1247, Val acc: 72.12% | LR: 2.22e-04 | time: 28.0s\n"
          ]
        },
        {
          "output_type": "stream",
          "name": "stderr",
          "text": []
        },
        {
          "output_type": "stream",
          "name": "stdout",
          "text": [
            "[18/50] Train loss: 1.0962, Train acc: 72.76% | Val loss: 1.0992, Val acc: 73.34% | LR: 2.14e-04 | time: 28.3s\n"
          ]
        },
        {
          "output_type": "stream",
          "name": "stderr",
          "text": []
        },
        {
          "output_type": "stream",
          "name": "stdout",
          "text": [
            "[19/50] Train loss: 1.0795, Train acc: 73.86% | Val loss: 1.0805, Val acc: 73.64% | LR: 2.05e-04 | time: 27.9s\n"
          ]
        },
        {
          "output_type": "stream",
          "name": "stderr",
          "text": []
        },
        {
          "output_type": "stream",
          "name": "stdout",
          "text": [
            "[20/50] Train loss: 1.0654, Train acc: 74.53% | Val loss: 1.1039, Val acc: 73.48% | LR: 1.96e-04 | time: 27.6s\n"
          ]
        },
        {
          "output_type": "stream",
          "name": "stderr",
          "text": []
        },
        {
          "output_type": "stream",
          "name": "stdout",
          "text": [
            "[21/50] Train loss: 1.0465, Train acc: 75.32% | Val loss: 1.0795, Val acc: 73.96% | LR: 1.87e-04 | time: 27.8s\n"
          ]
        },
        {
          "output_type": "stream",
          "name": "stderr",
          "text": []
        },
        {
          "output_type": "stream",
          "name": "stdout",
          "text": [
            "[22/50] Train loss: 1.0358, Train acc: 75.75% | Val loss: 1.0560, Val acc: 75.24% | LR: 1.78e-04 | time: 29.1s\n"
          ]
        },
        {
          "output_type": "stream",
          "name": "stderr",
          "text": []
        },
        {
          "output_type": "stream",
          "name": "stdout",
          "text": [
            "[23/50] Train loss: 1.0189, Train acc: 76.51% | Val loss: 1.0300, Val acc: 75.68% | LR: 1.69e-04 | time: 28.4s\n"
          ]
        },
        {
          "output_type": "stream",
          "name": "stderr",
          "text": []
        },
        {
          "output_type": "stream",
          "name": "stdout",
          "text": [
            "[24/50] Train loss: 1.0033, Train acc: 77.31% | Val loss: 1.0769, Val acc: 73.94% | LR: 1.59e-04 | time: 27.6s\n"
          ]
        },
        {
          "output_type": "stream",
          "name": "stderr",
          "text": []
        },
        {
          "output_type": "stream",
          "name": "stdout",
          "text": [
            "[25/50] Train loss: 0.9945, Train acc: 77.44% | Val loss: 1.0153, Val acc: 76.84% | LR: 1.50e-04 | time: 27.6s\n"
          ]
        },
        {
          "output_type": "stream",
          "name": "stderr",
          "text": []
        },
        {
          "output_type": "stream",
          "name": "stdout",
          "text": [
            "[26/50] Train loss: 0.9848, Train acc: 77.98% | Val loss: 1.0338, Val acc: 76.00% | LR: 1.41e-04 | time: 27.6s\n"
          ]
        },
        {
          "output_type": "stream",
          "name": "stderr",
          "text": []
        },
        {
          "output_type": "stream",
          "name": "stdout",
          "text": [
            "[27/50] Train loss: 0.9691, Train acc: 78.86% | Val loss: 1.0334, Val acc: 76.38% | LR: 1.31e-04 | time: 27.6s\n"
          ]
        },
        {
          "output_type": "stream",
          "name": "stderr",
          "text": []
        },
        {
          "output_type": "stream",
          "name": "stdout",
          "text": [
            "[28/50] Train loss: 0.9532, Train acc: 79.48% | Val loss: 1.0006, Val acc: 77.72% | LR: 1.22e-04 | time: 28.7s\n"
          ]
        },
        {
          "output_type": "stream",
          "name": "stderr",
          "text": []
        },
        {
          "output_type": "stream",
          "name": "stdout",
          "text": [
            "[29/50] Train loss: 0.9498, Train acc: 79.67% | Val loss: 1.0220, Val acc: 76.88% | LR: 1.13e-04 | time: 27.8s\n"
          ]
        },
        {
          "output_type": "stream",
          "name": "stderr",
          "text": []
        },
        {
          "output_type": "stream",
          "name": "stdout",
          "text": [
            "[30/50] Train loss: 0.9336, Train acc: 80.48% | Val loss: 0.9994, Val acc: 77.94% | LR: 1.04e-04 | time: 27.7s\n"
          ]
        },
        {
          "output_type": "stream",
          "name": "stderr",
          "text": []
        },
        {
          "output_type": "stream",
          "name": "stdout",
          "text": [
            "[31/50] Train loss: 0.9223, Train acc: 80.96% | Val loss: 1.0148, Val acc: 77.38% | LR: 9.48e-05 | time: 28.8s\n"
          ]
        },
        {
          "output_type": "stream",
          "name": "stderr",
          "text": []
        },
        {
          "output_type": "stream",
          "name": "stdout",
          "text": [
            "[32/50] Train loss: 0.9129, Train acc: 81.39% | Val loss: 0.9922, Val acc: 78.56% | LR: 8.61e-05 | time: 28.6s\n"
          ]
        },
        {
          "output_type": "stream",
          "name": "stderr",
          "text": []
        },
        {
          "output_type": "stream",
          "name": "stdout",
          "text": [
            "[33/50] Train loss: 0.9058, Train acc: 81.64% | Val loss: 0.9924, Val acc: 79.06% | LR: 7.77e-05 | time: 28.4s\n"
          ]
        },
        {
          "output_type": "stream",
          "name": "stderr",
          "text": []
        },
        {
          "output_type": "stream",
          "name": "stdout",
          "text": [
            "[34/50] Train loss: 0.8938, Train acc: 82.30% | Val loss: 1.0011, Val acc: 78.52% | LR: 6.96e-05 | time: 27.9s\n"
          ]
        },
        {
          "output_type": "stream",
          "name": "stderr",
          "text": []
        },
        {
          "output_type": "stream",
          "name": "stdout",
          "text": [
            "[35/50] Train loss: 0.8862, Train acc: 82.52% | Val loss: 1.0030, Val acc: 78.22% | LR: 6.18e-05 | time: 27.7s\n"
          ]
        },
        {
          "output_type": "stream",
          "name": "stderr",
          "text": []
        },
        {
          "output_type": "stream",
          "name": "stdout",
          "text": [
            "[36/50] Train loss: 0.8790, Train acc: 83.02% | Val loss: 0.9847, Val acc: 78.78% | LR: 5.44e-05 | time: 27.6s\n"
          ]
        },
        {
          "output_type": "stream",
          "name": "stderr",
          "text": []
        },
        {
          "output_type": "stream",
          "name": "stdout",
          "text": [
            "[37/50] Train loss: 0.8669, Train acc: 83.60% | Val loss: 0.9886, Val acc: 79.20% | LR: 4.73e-05 | time: 28.8s\n"
          ]
        },
        {
          "output_type": "stream",
          "name": "stderr",
          "text": []
        },
        {
          "output_type": "stream",
          "name": "stdout",
          "text": [
            "[38/50] Train loss: 0.8581, Train acc: 83.96% | Val loss: 0.9836, Val acc: 79.12% | LR: 4.07e-05 | time: 27.6s\n"
          ]
        },
        {
          "output_type": "stream",
          "name": "stderr",
          "text": []
        },
        {
          "output_type": "stream",
          "name": "stdout",
          "text": [
            "[39/50] Train loss: 0.8541, Train acc: 83.99% | Val loss: 0.9777, Val acc: 79.32% | LR: 3.44e-05 | time: 28.9s\n"
          ]
        },
        {
          "output_type": "stream",
          "name": "stderr",
          "text": []
        },
        {
          "output_type": "stream",
          "name": "stdout",
          "text": [
            "[40/50] Train loss: 0.8471, Train acc: 84.45% | Val loss: 0.9696, Val acc: 80.02% | LR: 2.86e-05 | time: 27.8s\n"
          ]
        },
        {
          "output_type": "stream",
          "name": "stderr",
          "text": []
        },
        {
          "output_type": "stream",
          "name": "stdout",
          "text": [
            "[41/50] Train loss: 0.8408, Train acc: 84.67% | Val loss: 0.9712, Val acc: 79.44% | LR: 2.34e-05 | time: 27.7s\n"
          ]
        },
        {
          "output_type": "stream",
          "name": "stderr",
          "text": []
        },
        {
          "output_type": "stream",
          "name": "stdout",
          "text": [
            "[42/50] Train loss: 0.8354, Train acc: 85.04% | Val loss: 0.9731, Val acc: 79.84% | LR: 1.86e-05 | time: 28.5s\n"
          ]
        },
        {
          "output_type": "stream",
          "name": "stderr",
          "text": []
        },
        {
          "output_type": "stream",
          "name": "stdout",
          "text": [
            "[43/50] Train loss: 0.8296, Train acc: 85.13% | Val loss: 0.9745, Val acc: 79.44% | LR: 1.43e-05 | time: 27.6s\n"
          ]
        },
        {
          "output_type": "stream",
          "name": "stderr",
          "text": []
        },
        {
          "output_type": "stream",
          "name": "stdout",
          "text": [
            "[44/50] Train loss: 0.8289, Train acc: 85.21% | Val loss: 0.9563, Val acc: 80.86% | LR: 1.05e-05 | time: 28.6s\n"
          ]
        },
        {
          "output_type": "stream",
          "name": "stderr",
          "text": []
        },
        {
          "output_type": "stream",
          "name": "stdout",
          "text": [
            "[45/50] Train loss: 0.8258, Train acc: 85.41% | Val loss: 0.9796, Val acc: 79.72% | LR: 7.34e-06 | time: 28.8s\n"
          ]
        },
        {
          "output_type": "stream",
          "name": "stderr",
          "text": []
        },
        {
          "output_type": "stream",
          "name": "stdout",
          "text": [
            "[46/50] Train loss: 0.8222, Train acc: 85.51% | Val loss: 0.9569, Val acc: 80.70% | LR: 4.71e-06 | time: 28.3s\n"
          ]
        },
        {
          "output_type": "stream",
          "name": "stderr",
          "text": []
        },
        {
          "output_type": "stream",
          "name": "stdout",
          "text": [
            "[47/50] Train loss: 0.8198, Train acc: 85.64% | Val loss: 0.9748, Val acc: 79.80% | LR: 2.66e-06 | time: 28.7s\n"
          ]
        },
        {
          "output_type": "stream",
          "name": "stderr",
          "text": []
        },
        {
          "output_type": "stream",
          "name": "stdout",
          "text": [
            "[48/50] Train loss: 0.8139, Train acc: 85.97% | Val loss: 0.9741, Val acc: 79.90% | LR: 1.18e-06 | time: 29.0s\n"
          ]
        },
        {
          "output_type": "stream",
          "name": "stderr",
          "text": []
        },
        {
          "output_type": "stream",
          "name": "stdout",
          "text": [
            "[49/50] Train loss: 0.8190, Train acc: 85.62% | Val loss: 0.9730, Val acc: 80.06% | LR: 2.96e-07 | time: 28.6s\n"
          ]
        },
        {
          "output_type": "stream",
          "name": "stderr",
          "text": []
        },
        {
          "output_type": "stream",
          "name": "stdout",
          "text": [
            "[50/50] Train loss: 0.8168, Train acc: 85.95% | Val loss: 0.9739, Val acc: 80.16% | LR: 0.00e+00 | time: 28.2s\n"
          ]
        }
      ]
    },
    {
      "cell_type": "code",
      "execution_count": 12,
      "metadata": {
        "colab": {
          "base_uri": "https://localhost:8080/"
        },
        "id": "l09SPApTznwq",
        "outputId": "4e1c7ee0-ed5a-4896-a1b7-aa8dca646812"
      },
      "outputs": [
        {
          "output_type": "stream",
          "name": "stdout",
          "text": [
            "\n",
            "FINAL RESULTS (best model):\n",
            "Train Loss: 0.7616, Train Acc: 88.27%\n",
            "Val   Loss: 0.9758, Val   Acc: 79.86%\n",
            "Test  Loss: 0.9453, Test  Acc: 81.16%\n"
          ]
        }
      ],
      "source": [
        "# Step 8: Final evaluation on train/val/test using best model\n",
        "if os.path.exists(save_path):\n",
        "    ckpt = torch.load(save_path, map_location=device)\n",
        "    model.load_state_dict(ckpt[\"model_state\"])\n",
        "else:\n",
        "    print(\"Warning: best model not found, using last epoch weights\")\n",
        "\n",
        "train_loss, train_acc = evaluate(train_loader)\n",
        "val_loss, val_acc = evaluate(val_loader)\n",
        "test_loss, test_acc = evaluate(test_loader)\n",
        "\n",
        "print(\"\\nFINAL RESULTS (best model):\")\n",
        "print(f\"Train Loss: {train_loss:.4f}, Train Acc: {train_acc:.2f}%\")\n",
        "print(f\"Val   Loss: {val_loss:.4f}, Val   Acc: {val_acc:.2f}%\")\n",
        "print(f\"Test  Loss: {test_loss:.4f}, Test  Acc: {test_acc:.2f}%\")\n"
      ]
    },
    {
      "cell_type": "code",
      "source": [
        "import torch\n",
        "import matplotlib.pyplot as plt\n",
        "import seaborn as sns\n",
        "from sklearn.metrics import confusion_matrix, classification_report\n",
        "import numpy as np\n",
        "\n",
        "# Make predictions on the test set\n",
        "all_preds = []\n",
        "all_labels = []\n",
        "\n",
        "model.eval()\n",
        "with torch.no_grad():\n",
        "    for images, labels in test_loader:\n",
        "        images, labels = images.to(device), labels.to(device)\n",
        "        outputs = model(images)\n",
        "        _, preds = torch.max(outputs, 1)\n",
        "        all_preds.extend(preds.cpu().numpy())\n",
        "        all_labels.extend(labels.cpu().numpy())\n",
        "\n",
        "# Convert to numpy arrays\n",
        "all_preds = np.array(all_preds)\n",
        "all_labels = np.array(all_labels)\n",
        "\n",
        "# Confusion Matrix\n",
        "cm = confusion_matrix(all_labels, all_preds)\n",
        "plt.figure(figsize=(10,8))\n",
        "sns.heatmap(cm, annot=True, fmt='d', cmap='Blues')\n",
        "plt.xlabel(\"Predicted\")\n",
        "plt.ylabel(\"True\")\n",
        "plt.title(\"Confusion Matrix\")\n",
        "plt.show()\n",
        "\n",
        "print(cm)\n",
        "\n",
        "# Classification Report (per-class precision, recall, f1-score, support)\n",
        "print(classification_report(all_labels, all_preds, digits=4))\n"
      ],
      "metadata": {
        "colab": {
          "base_uri": "https://localhost:8080/",
          "height": 1000
        },
        "id": "HtI83T9W53zG",
        "outputId": "2af8ef49-a9ce-4c53-d20b-9c547f2c8644"
      },
      "execution_count": 13,
      "outputs": [
        {
          "output_type": "display_data",
          "data": {
            "text/plain": [
              "<Figure size 1000x800 with 2 Axes>"
            ],
            "image/png": "[encoded data removed]"
          },
          "metadata": {}
        },
        {
          "output_type": "stream",
          "name": "stdout",
          "text": [
            "[[843  24  16  10  10   3   8  14  33  39]\n",
            " [ 16 911   0   3   0   1   0   3   9  57]\n",
            " [ 56   3 756  36  47  26  32  30   2  12]\n",
            " [ 19   5  50 641  29 155  40  30  14  17]\n",
            " [  8   3  64  30 743  28  28  83   9   4]\n",
            " [ 11   5  31 125  25 736  10  49   1   7]\n",
            " [  9   7  31  47  25  23 848   6   3   1]\n",
            " [ 15   2  18  15  13  39   1 884   5   8]\n",
            " [ 58  32   8   4   2   3   1   0 866  26]\n",
            " [ 24  55   1   5   2   2   1   7  15 888]]\n",
            "              precision    recall  f1-score   support\n",
            "\n",
            "           0     0.7960    0.8430    0.8188      1000\n",
            "           1     0.8701    0.9110    0.8901      1000\n",
            "           2     0.7754    0.7560    0.7656      1000\n",
            "           3     0.6998    0.6410    0.6691      1000\n",
            "           4     0.8292    0.7430    0.7838      1000\n",
            "           5     0.7244    0.7360    0.7302      1000\n",
            "           6     0.8751    0.8480    0.8614      1000\n",
            "           7     0.7993    0.8840    0.8395      1000\n",
            "           8     0.9049    0.8660    0.8850      1000\n",
            "           9     0.8385    0.8880    0.8626      1000\n",
            "\n",
            "    accuracy                         0.8116     10000\n",
            "   macro avg     0.8113    0.8116    0.8106     10000\n",
            "weighted avg     0.8113    0.8116    0.8106     10000\n",
            "\n"
          ]
        }
      ]
    }
  ]
}